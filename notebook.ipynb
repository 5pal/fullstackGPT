{
 "cells": [
  {
   "cell_type": "code",
   "execution_count": 6,
   "id": "9c86fd45",
   "metadata": {},
   "outputs": [
    {
     "name": "stdout",
     "output_type": "stream",
     "text": [
      "I know this:\n",
      "                Capital: Berlin\n",
      "                Language: German\n",
      "                Food: Bratwurst and Sauerkraut\n",
      "                Currency: Euro"
     ]
    },
    {
     "data": {
      "text/plain": [
       "AIMessageChunk(content='I know this:\\n                Capital: Berlin\\n                Language: German\\n                Food: Bratwurst and Sauerkraut\\n                Currency: Euro')"
      ]
     },
     "execution_count": 6,
     "metadata": {},
     "output_type": "execute_result"
    }
   ],
   "source": [
    "from langchain.chat_models import ChatOpenAI\n",
    "from langchain.prompts import PromptTemplate\n",
    "from langchain.prompts.few_shot import FewShotPromptTemplate\n",
    "from langchain.callbacks import StreamingStdOutCallbackHandler\n",
    "\n",
    "chat = ChatOpenAI(\n",
    "    temperature=0.1,\n",
    "    model=\"gpt-4.1-nano\",\n",
    "    streaming=True,\n",
    "    callbacks=[\n",
    "        StreamingStdOutCallbackHandler(),\n",
    "    ],\n",
    ")\n",
    "\n",
    "# 기본적으로 FewShot은 모델에게 예제를 제공한다  -> 더 나은 대답을 유도하기 위해\n",
    "\n",
    "examples = [\n",
    "    {\n",
    "        \"question\": \"What do you know about Spain?\",\n",
    "        \"answer\": \"\"\"\n",
    "                I know this:\n",
    "                Capital: Madrid\n",
    "                Language: Spanish\n",
    "                Food: Paella and Tapas\n",
    "                Currency: Euro\n",
    "                \"\"\",\n",
    "    },\n",
    "    {\n",
    "        \"question\": \"What do you know about Japan?\",\n",
    "        \"answer\": \"\"\"\n",
    "                I know this:\n",
    "                Capital: Tokyo\n",
    "                Language: Japanese\n",
    "                Food: Sushi and Ramen\n",
    "                Currency: Yen\n",
    "                \"\"\",\n",
    "    },\n",
    "    {\n",
    "        \"question\": \"What do you know about Brazil?\",\n",
    "        \"answer\": \"\"\"\n",
    "                I know this:\n",
    "                Capital: Brasília\n",
    "                Language: Portuguese\n",
    "                Food: Feijoada and Churrasco\n",
    "                Currency: Brazilian Real\n",
    "                \"\"\",\n",
    "    },\n",
    "]\n",
    "\n",
    "example_template = \"\"\"\n",
    "        Human: {question}\n",
    "        AI: {answer}\n",
    "\"\"\"\n",
    "\n",
    "# example_prompt = PromptTemplate.from_template(example_template)\n",
    "example_prompt = PromptTemplate.from_template(\"Human: {question}\\nAI: {answer}\")\n",
    "\n",
    "prompt = FewShotPromptTemplate(\n",
    "    example_prompt=example_prompt,\n",
    "    examples=examples,\n",
    "    suffix=\"Human: What do you know about {country}?\",\n",
    "    input_variables=[\"country\"],\n",
    ")\n",
    "\n",
    "chain = prompt | chat\n",
    "\n",
    "chain.invoke(\n",
    "    {\n",
    "        \"country\": \"Germany\",\n",
    "    }\n",
    ")"
   ]
  }
 ],
 "metadata": {
  "kernelspec": {
   "display_name": "env",
   "language": "python",
   "name": "python3"
  },
  "language_info": {
   "codemirror_mode": {
    "name": "ipython",
    "version": 3
   },
   "file_extension": ".py",
   "mimetype": "text/x-python",
   "name": "python",
   "nbconvert_exporter": "python",
   "pygments_lexer": "ipython3",
   "version": "3.11.6"
  }
 },
 "nbformat": 4,
 "nbformat_minor": 5
}
