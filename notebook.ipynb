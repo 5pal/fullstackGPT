{
 "cells": [
  {
   "cell_type": "code",
   "execution_count": 1,
   "id": "9c86fd45",
   "metadata": {},
   "outputs": [
    {
     "name": "stdout",
     "output_type": "stream",
     "text": [
      "\u001b[32;1m\u001b[1;3m[llm/start]\u001b[0m \u001b[1m[1:llm:ChatOpenAI] Entering LLM run with input:\n",
      "\u001b[0m{\n",
      "  \"prompts\": [\n",
      "    \"Human: How do you make a italian pizza?\"\n",
      "  ]\n",
      "}\n",
      "\u001b[36;1m\u001b[1;3m[llm/end]\u001b[0m \u001b[1m[1:llm:ChatOpenAI] [3.58s] Exiting LLM run with output:\n",
      "\u001b[0m{\n",
      "  \"generations\": [\n",
      "    [\n",
      "      {\n",
      "        \"text\": \"Making an Italian-style pizza involves preparing a simple, flavorful dough, choosing quality ingredients, and baking it to perfection. Here's a classic recipe to help you make authentic Italian pizza at home:\\n\\n**Ingredients:**\\n\\n*For the dough:*\\n- 2 ½ cups (300g) all-purpose flour or Italian 00 flour (preferred)\\n- 1 teaspoon salt\\n- 1 teaspoon sugar\\n- 1 packet (7g) active dry yeast\\n- ¾ cup (180ml) warm water (about 110°F/45°C)\\n- 2 tablespoons olive oil\\n\\n*For the toppings:*\\n- Tomato sauce (preferably made from crushed San Marzano tomatoes)\\n- Fresh mozzarella cheese (preferably mozzarella di bufala or fior di latte)\\n- Fresh basil leaves\\n- Extra virgin olive oil\\n- Salt to taste\\n- Optional toppings: prosciutto, arugula, mushrooms, olives, etc.\\n\\n**Instructions:**\\n\\n1. **Prepare the Dough:**\\n   - In a small bowl, dissolve the yeast and sugar in warm water. Let it sit for about 5-10 minutes until frothy.\\n   - In a large mixing bowl, combine the flour and salt.\\n   - Make a well in the center and pour in the yeast mixture and olive oil.\\n   - Mix with a spoon or your hands until a dough forms.\\n   - Knead the dough on a floured surface for about 8-10 minutes until smooth and elastic.\\n   - Place the dough in a lightly oiled bowl, cover with a damp cloth or plastic wrap, and let it rise in a warm place for 1 to 2 hours, or until doubled in size.\\n\\n2. **Preheat the Oven:**\\n   - Preheat your oven to the highest temperature possible, typically 475°F to 500°F (250°C to 260°C). If you have a pizza stone, place it in the oven while preheating.\\n\\n3. **Shape the Pizza:**\\n   - Punch down the risen dough and divide it into two portions if making smaller pizzas.\\n   - On a floured surface, stretch or roll the dough into a thin circle, about 12 inches in diameter.\\n   - Transfer to a piece of parchment paper or a floured pizza peel if using a pizza stone.\\n\\n4. **Add the Toppings:**\\n   - Spread a thin layer of tomato sauce over the dough, leaving about 1 inch around the edges.\\n   - Tear or slice the mozzarella and distribute evenly.\\n   - Add fresh basil leaves and drizzle with a little olive oil.\\n   - Season with a pinch of salt.\\n\\n5. **Bake:**\\n   - Transfer the pizza onto a preheated pizza stone or baking sheet.\\n   - Bake for 10-15 minutes, or until the crust is golden and crisp, and the cheese is bubbly and slightly browned.\\n\\n6. **Serve:**\\n   - Remove from the oven, add a few fresh basil leaves if desired, and drizzle with a little more olive oil.\\n   - Slice and enjoy your authentic Italian pizza!\\n\\n**Tips for Authenticity:**\\n- Use high-quality ingredients, especially the tomatoes and mozzarella.\\n- Keep the dough thin and crispy.\\n- Bake at the highest temperature to mimic traditional wood-fired ovens.\\n\\nBuon appetito!\",\n",
      "        \"generation_info\": {\n",
      "          \"finish_reason\": \"stop\"\n",
      "        },\n",
      "        \"type\": \"ChatGeneration\",\n",
      "        \"message\": {\n",
      "          \"lc\": 1,\n",
      "          \"type\": \"constructor\",\n",
      "          \"id\": [\n",
      "            \"langchain\",\n",
      "            \"schema\",\n",
      "            \"messages\",\n",
      "            \"AIMessage\"\n",
      "          ],\n",
      "          \"kwargs\": {\n",
      "            \"content\": \"Making an Italian-style pizza involves preparing a simple, flavorful dough, choosing quality ingredients, and baking it to perfection. Here's a classic recipe to help you make authentic Italian pizza at home:\\n\\n**Ingredients:**\\n\\n*For the dough:*\\n- 2 ½ cups (300g) all-purpose flour or Italian 00 flour (preferred)\\n- 1 teaspoon salt\\n- 1 teaspoon sugar\\n- 1 packet (7g) active dry yeast\\n- ¾ cup (180ml) warm water (about 110°F/45°C)\\n- 2 tablespoons olive oil\\n\\n*For the toppings:*\\n- Tomato sauce (preferably made from crushed San Marzano tomatoes)\\n- Fresh mozzarella cheese (preferably mozzarella di bufala or fior di latte)\\n- Fresh basil leaves\\n- Extra virgin olive oil\\n- Salt to taste\\n- Optional toppings: prosciutto, arugula, mushrooms, olives, etc.\\n\\n**Instructions:**\\n\\n1. **Prepare the Dough:**\\n   - In a small bowl, dissolve the yeast and sugar in warm water. Let it sit for about 5-10 minutes until frothy.\\n   - In a large mixing bowl, combine the flour and salt.\\n   - Make a well in the center and pour in the yeast mixture and olive oil.\\n   - Mix with a spoon or your hands until a dough forms.\\n   - Knead the dough on a floured surface for about 8-10 minutes until smooth and elastic.\\n   - Place the dough in a lightly oiled bowl, cover with a damp cloth or plastic wrap, and let it rise in a warm place for 1 to 2 hours, or until doubled in size.\\n\\n2. **Preheat the Oven:**\\n   - Preheat your oven to the highest temperature possible, typically 475°F to 500°F (250°C to 260°C). If you have a pizza stone, place it in the oven while preheating.\\n\\n3. **Shape the Pizza:**\\n   - Punch down the risen dough and divide it into two portions if making smaller pizzas.\\n   - On a floured surface, stretch or roll the dough into a thin circle, about 12 inches in diameter.\\n   - Transfer to a piece of parchment paper or a floured pizza peel if using a pizza stone.\\n\\n4. **Add the Toppings:**\\n   - Spread a thin layer of tomato sauce over the dough, leaving about 1 inch around the edges.\\n   - Tear or slice the mozzarella and distribute evenly.\\n   - Add fresh basil leaves and drizzle with a little olive oil.\\n   - Season with a pinch of salt.\\n\\n5. **Bake:**\\n   - Transfer the pizza onto a preheated pizza stone or baking sheet.\\n   - Bake for 10-15 minutes, or until the crust is golden and crisp, and the cheese is bubbly and slightly browned.\\n\\n6. **Serve:**\\n   - Remove from the oven, add a few fresh basil leaves if desired, and drizzle with a little more olive oil.\\n   - Slice and enjoy your authentic Italian pizza!\\n\\n**Tips for Authenticity:**\\n- Use high-quality ingredients, especially the tomatoes and mozzarella.\\n- Keep the dough thin and crispy.\\n- Bake at the highest temperature to mimic traditional wood-fired ovens.\\n\\nBuon appetito!\",\n",
      "            \"additional_kwargs\": {}\n",
      "          }\n",
      "        }\n",
      "      }\n",
      "    ]\n",
      "  ],\n",
      "  \"llm_output\": {\n",
      "    \"token_usage\": {\n",
      "      \"prompt_tokens\": 15,\n",
      "      \"completion_tokens\": 670,\n",
      "      \"total_tokens\": 685,\n",
      "      \"prompt_tokens_details\": {\n",
      "        \"cached_tokens\": 0,\n",
      "        \"audio_tokens\": 0\n",
      "      },\n",
      "      \"completion_tokens_details\": {\n",
      "        \"reasoning_tokens\": 0,\n",
      "        \"audio_tokens\": 0,\n",
      "        \"accepted_prediction_tokens\": 0,\n",
      "        \"rejected_prediction_tokens\": 0\n",
      "      }\n",
      "    },\n",
      "    \"model_name\": \"gpt-4.1-nano\",\n",
      "    \"system_fingerprint\": \"fp_eede8f0d45\"\n",
      "  },\n",
      "  \"run\": null\n",
      "}\n"
     ]
    },
    {
     "data": {
      "text/plain": [
       "\"Making an Italian-style pizza involves preparing a simple, flavorful dough, choosing quality ingredients, and baking it to perfection. Here's a classic recipe to help you make authentic Italian pizza at home:\\n\\n**Ingredients:**\\n\\n*For the dough:*\\n- 2 ½ cups (300g) all-purpose flour or Italian 00 flour (preferred)\\n- 1 teaspoon salt\\n- 1 teaspoon sugar\\n- 1 packet (7g) active dry yeast\\n- ¾ cup (180ml) warm water (about 110°F/45°C)\\n- 2 tablespoons olive oil\\n\\n*For the toppings:*\\n- Tomato sauce (preferably made from crushed San Marzano tomatoes)\\n- Fresh mozzarella cheese (preferably mozzarella di bufala or fior di latte)\\n- Fresh basil leaves\\n- Extra virgin olive oil\\n- Salt to taste\\n- Optional toppings: prosciutto, arugula, mushrooms, olives, etc.\\n\\n**Instructions:**\\n\\n1. **Prepare the Dough:**\\n   - In a small bowl, dissolve the yeast and sugar in warm water. Let it sit for about 5-10 minutes until frothy.\\n   - In a large mixing bowl, combine the flour and salt.\\n   - Make a well in the center and pour in the yeast mixture and olive oil.\\n   - Mix with a spoon or your hands until a dough forms.\\n   - Knead the dough on a floured surface for about 8-10 minutes until smooth and elastic.\\n   - Place the dough in a lightly oiled bowl, cover with a damp cloth or plastic wrap, and let it rise in a warm place for 1 to 2 hours, or until doubled in size.\\n\\n2. **Preheat the Oven:**\\n   - Preheat your oven to the highest temperature possible, typically 475°F to 500°F (250°C to 260°C). If you have a pizza stone, place it in the oven while preheating.\\n\\n3. **Shape the Pizza:**\\n   - Punch down the risen dough and divide it into two portions if making smaller pizzas.\\n   - On a floured surface, stretch or roll the dough into a thin circle, about 12 inches in diameter.\\n   - Transfer to a piece of parchment paper or a floured pizza peel if using a pizza stone.\\n\\n4. **Add the Toppings:**\\n   - Spread a thin layer of tomato sauce over the dough, leaving about 1 inch around the edges.\\n   - Tear or slice the mozzarella and distribute evenly.\\n   - Add fresh basil leaves and drizzle with a little olive oil.\\n   - Season with a pinch of salt.\\n\\n5. **Bake:**\\n   - Transfer the pizza onto a preheated pizza stone or baking sheet.\\n   - Bake for 10-15 minutes, or until the crust is golden and crisp, and the cheese is bubbly and slightly browned.\\n\\n6. **Serve:**\\n   - Remove from the oven, add a few fresh basil leaves if desired, and drizzle with a little more olive oil.\\n   - Slice and enjoy your authentic Italian pizza!\\n\\n**Tips for Authenticity:**\\n- Use high-quality ingredients, especially the tomatoes and mozzarella.\\n- Keep the dough thin and crispy.\\n- Bake at the highest temperature to mimic traditional wood-fired ovens.\\n\\nBuon appetito!\""
      ]
     },
     "execution_count": 1,
     "metadata": {},
     "output_type": "execute_result"
    }
   ],
   "source": [
    "from langchain.chat_models import ChatOpenAI\n",
    "from langchain.callbacks import StreamingStdOutCallbackHandler\n",
    "from langchain.globals import set_llm_cache, set_debug\n",
    "from langchain.cache import InMemoryCache, SQLiteCache\n",
    "\n",
    "# set_llm_cache(InMemoryCache())  # 캐시를 사용하기 위해 설정\n",
    "set_llm_cache(SQLiteCache(\"cache.db\"))  # SQLite 캐시 사용\n",
    "set_debug(True)  # 디버그 모드 활성화\n",
    "\n",
    "# 캐싱을 사용하면 LM(언어모델)의 응답을 저장할 수 있다.\n",
    "# 비용 절약에 용이\n",
    "\n",
    "chat = ChatOpenAI(\n",
    "    temperature=0.1,\n",
    "    model=\"gpt-4.1-nano\",\n",
    "    # streaming=True,\n",
    "    # callbacks=[\n",
    "    #     StreamingStdOutCallbackHandler(),\n",
    "    # ],\n",
    ")\n",
    "\n",
    "chat.predict(\"How do you make a italian pizza?\")"
   ]
  },
  {
   "cell_type": "code",
   "execution_count": null,
   "id": "05ded284",
   "metadata": {},
   "outputs": [],
   "source": [
    "chat.predict(\"How do you make a italian pizza?\")"
   ]
  }
 ],
 "metadata": {
  "kernelspec": {
   "display_name": "env",
   "language": "python",
   "name": "python3"
  },
  "language_info": {
   "codemirror_mode": {
    "name": "ipython",
    "version": 3
   },
   "file_extension": ".py",
   "mimetype": "text/x-python",
   "name": "python",
   "nbconvert_exporter": "python",
   "pygments_lexer": "ipython3",
   "version": "3.11.6"
  }
 },
 "nbformat": 4,
 "nbformat_minor": 5
}
