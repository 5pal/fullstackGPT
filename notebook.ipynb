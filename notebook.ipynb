{
 "cells": [
  {
   "cell_type": "code",
   "execution_count": null,
   "id": "9c86fd45",
   "metadata": {},
   "outputs": [
    {
     "data": {
      "text/plain": [
       "'The distance between the United States and Canada varies depending on the specific locations being measured, as they share the longest international border in the world. The border stretches approximately 5,525 miles (8,891 kilometers) from the Atlantic Ocean in the east to the Pacific Ocean in the west. \\n\\nFor example:\\n- The distance between the U.S. city of Buffalo, New York, and the Canadian city of Toronto is roughly 100 miles (160 kilometers) by land.\\n- The border between the U.S. state of Maine and the Canadian province of New Brunswick is about 611 miles (983 kilometers).\\n\\nIf you have specific cities or points in mind, I can provide a more precise distance.'"
      ]
     },
     "execution_count": 9,
     "metadata": {},
     "output_type": "execute_result"
    }
   ],
   "source": [
    "from langchain.prompts import PromptTemplate, ChatPromptTemplate\n",
    "from langchain.chat_models import ChatOpenAI\n",
    "\n",
    "chat = ChatOpenAI(temperature=0.1, model=\"gpt-4.1-nano\")\n",
    "template = PromptTemplate.from_template(\n",
    "    \"What is the distance between {country_a} and {country_b}?\"\n",
    ")\n",
    "\n",
    "prompt = template.format(country_a=\"USA\", country_b=\"Canada\")\n",
    "\n",
    "chat.predict(prompt)"
   ]
  },
  {
   "cell_type": "code",
   "execution_count": null,
   "id": "1c939454",
   "metadata": {},
   "outputs": [
    {
     "name": "stdout",
     "output_type": "stream",
     "text": [
      "content='대한민국의 수도는 서울입니다.'\n"
     ]
    }
   ],
   "source": [
    "from langchain.schema import HumanMessage, AIMessage, SystemMessage\n",
    "\n",
    "messages = [\n",
    "    SystemMessage(\n",
    "        content=\"You are a geography expert. And you only reply in {language}.\"\n",
    "    ),\n",
    "    AIMessage(content=\"Ciao, mi chiamo {name}!\"),\n",
    "    HumanMessage(\n",
    "        content=\"What is the distance between {country_a} and {country_b}? Also, what is your name?\"\n",
    "    ),\n",
    "]\n",
    "\n",
    "print(chat.predict_messages(messages))"
   ]
  }
 ],
 "metadata": {
  "kernelspec": {
   "display_name": "env",
   "language": "python",
   "name": "python3"
  },
  "language_info": {
   "codemirror_mode": {
    "name": "ipython",
    "version": 3
   },
   "file_extension": ".py",
   "mimetype": "text/x-python",
   "name": "python",
   "nbconvert_exporter": "python",
   "pygments_lexer": "ipython3",
   "version": "3.11.6"
  }
 },
 "nbformat": 4,
 "nbformat_minor": 5
}
