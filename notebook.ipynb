{
 "cells": [
  {
   "cell_type": "code",
   "execution_count": 2,
   "id": "9c86fd45",
   "metadata": {},
   "outputs": [
    {
     "data": {
      "text/plain": [
       "'The distance between the United States and Canada varies depending on the specific locations being measured, as they share the longest international border in the world. The border stretches approximately 5,525 miles (8,891 kilometers) across multiple states and provinces. For example:\\n\\n- The border between the U.S. state of Maine and the Canadian province of New Brunswick is about 611 miles (983 kilometers).\\n- The border between Alaska and the Canadian Yukon and British Columbia is over 1,500 miles (2,400 kilometers).\\n- The border between the U.S. states of Minnesota and Manitoba is roughly 547 miles (880 kilometers).\\n\\nIf you have specific cities or regions in mind, I can provide a more precise distance.'"
      ]
     },
     "execution_count": 2,
     "metadata": {},
     "output_type": "execute_result"
    }
   ],
   "source": [
    "from langchain.prompts import PromptTemplate, ChatPromptTemplate\n",
    "from langchain.chat_models import ChatOpenAI\n",
    "\n",
    "chat = ChatOpenAI(temperature=0.1, model=\"gpt-4.1-nano\")\n",
    "template = PromptTemplate.from_template(\n",
    "    \"What is the distance between {country_a} and {country_b}?\"\n",
    ")\n",
    "\n",
    "prompt = template.format(country_a=\"USA\", country_b=\"Canada\")\n",
    "\n",
    "chat.predict(prompt)"
   ]
  },
  {
   "cell_type": "code",
   "execution_count": 7,
   "id": "1c939454",
   "metadata": {},
   "outputs": [
    {
     "data": {
      "text/plain": [
       "AIMessage(content='Η απόσταση μεταξύ Μεξικού και Ταϊλάνδης είναι περίπου 14.000 χιλιόμετρα, ανάλογα με τη διαδρομή. Το όνομά μου είναι Σωκράτης.')"
      ]
     },
     "execution_count": 7,
     "metadata": {},
     "output_type": "execute_result"
    }
   ],
   "source": [
    "template = ChatPromptTemplate.from_messages(\n",
    "    [\n",
    "        (\"system\", \"You are a geography expert. And you only reply in {language}.\"),\n",
    "        (\"ai\", \"Ciao, mi chiamo {name}!\"),\n",
    "        (\n",
    "            \"human\",\n",
    "            \"What is the distance between {country_a} and {country_b}? Also, what is your name?\",\n",
    "        ),\n",
    "    ]\n",
    ")\n",
    "\n",
    "prompt = template.format_messages(\n",
    "    language=\"Greek\",\n",
    "    name=\"Socrates\",\n",
    "    country_a=\"Mexico\",\n",
    "    country_b=\"Thailand\",\n",
    ")\n",
    "\n",
    "chat.predict_messages(prompt)"
   ]
  }
 ],
 "metadata": {
  "kernelspec": {
   "display_name": "env",
   "language": "python",
   "name": "python3"
  },
  "language_info": {
   "codemirror_mode": {
    "name": "ipython",
    "version": 3
   },
   "file_extension": ".py",
   "mimetype": "text/x-python",
   "name": "python",
   "nbconvert_exporter": "python",
   "pygments_lexer": "ipython3",
   "version": "3.11.6"
  }
 },
 "nbformat": 4,
 "nbformat_minor": 5
}
