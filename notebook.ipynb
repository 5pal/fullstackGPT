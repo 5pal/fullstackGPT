{
 "cells": [
  {
   "cell_type": "code",
   "execution_count": 15,
   "id": "20108a39",
   "metadata": {},
   "outputs": [],
   "source": [
    "from langchain.memory import ConversationSummaryMemory\n",
    "from langchain.chat_models import ChatOpenAI\n",
    "\n",
    "llm = ChatOpenAI(\n",
    "    temperature=0.1,\n",
    "    model=\"gpt-4.1-nano\",\n",
    ")\n",
    "\n",
    "memory = ConversationSummaryMemory(\n",
    "    llm=llm,\n",
    ")\n",
    "\n",
    "\n",
    "def add_message(input, output):\n",
    "    memory.save_context(\n",
    "        {\"input\": input},\n",
    "        {\"output\": output},\n",
    "    )\n",
    "\n",
    "\n",
    "def get_history():\n",
    "    return memory.load_memory_variables({})\n",
    "\n",
    "\n",
    "add_message(\"Hi I'm Opal, I live in South Korea\", \"Wow that's so nice!\")"
   ]
  },
  {
   "cell_type": "code",
   "execution_count": 16,
   "id": "97f8a00b",
   "metadata": {},
   "outputs": [],
   "source": [
    "add_message(\"South Korea is perfect place to live\", \"I wish I could visit!\")"
   ]
  },
  {
   "cell_type": "code",
   "execution_count": 17,
   "id": "19e9bb1f",
   "metadata": {},
   "outputs": [
    {
     "data": {
      "text/plain": [
       "{'history': \"The human introduces themselves as Opal from South Korea, and the AI responds positively, expressing that it's nice. The human then states that South Korea is a perfect place to live, and the AI responds that it wishes it could visit.\"}"
      ]
     },
     "execution_count": 17,
     "metadata": {},
     "output_type": "execute_result"
    }
   ],
   "source": [
    "get_history()"
   ]
  }
 ],
 "metadata": {
  "kernelspec": {
   "display_name": "env",
   "language": "python",
   "name": "python3"
  },
  "language_info": {
   "codemirror_mode": {
    "name": "ipython",
    "version": 3
   },
   "file_extension": ".py",
   "mimetype": "text/x-python",
   "name": "python",
   "nbconvert_exporter": "python",
   "pygments_lexer": "ipython3",
   "version": "3.11.6"
  }
 },
 "nbformat": 4,
 "nbformat_minor": 5
}
